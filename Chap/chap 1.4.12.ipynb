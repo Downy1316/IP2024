{
 "cells": [
  {
   "cell_type": "code",
   "execution_count": null,
   "metadata": {},
   "outputs": [],
   "source": []
  },
  {
   "cell_type": "code",
   "execution_count": null,
   "metadata": {},
   "outputs": [],
   "source": [
    "import cv2 \n",
    "from PIL import image\n",
    "import numpy as np\n",
    "import matplotlib.pyplot as pl\n",
    "from matplotlib import pyplot as plt"
   ]
  },
  {
   "cell_type": "code",
   "execution_count": null,
   "metadata": {},
   "outputs": [],
   "source": []
  },
  {
   "cell_type": "code",
   "execution_count": null,
   "metadata": {},
   "outputs": [],
   "source": [
    "roi=cv2.imread('rose_red.png')\n",
    "hsv=cv2.cvtColor(roi,cv2.COLOR_BGR2HSV)\n",
    "target=cv2.imread('rose.png')\n",
    "hsvt=cv2.cvtColor(target,cv2.COLOR_BGR2HSV)\n",
    "#calculatingobjecthistogram\n",
    "roihist=cv2.calcHist([hsv],[0,1],None,[180,256],[0,180,0,256])\n",
    "#normalizehistogramandapplybackprojection\n",
    "cv2.normalize(roihist,roihist,0,255,cv2.NORM_MINMAX)\n",
    "dst=cv2.calcBackProject([hsvt],[0,1],roihist,[0,180,0,256],1)\n",
    "#Nowconvolutewithcirculardisc\n",
    "disc=cv2.getStructuringElement(cv2.MORPH_ELLIPSE,(5,5))\n",
    "cv2.filter2D(dst,-1,disc,dst)\n",
    "#thresholdandbinaryAND\n",
    "ret,thresh=cv2.threshold(dst,50,255,0)\n",
    "thresh=cv2.merge((thresh,thresh,thresh))\n",
    "res=cv2.bitwise_and(target,thresh)\n",
    "res=np.vstack((target,thresh,res))\n",
    "cv2.imwrite('res.jpg',res)"
   ]
  }
 ],
 "metadata": {
  "language_info": {
   "name": "python"
  },
  "orig_nbformat": 4
 },
 "nbformat": 4,
 "nbformat_minor": 2
}
