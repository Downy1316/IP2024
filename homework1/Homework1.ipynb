{
 "cells": [
  {
   "cell_type": "code",
   "execution_count": 85,
   "metadata": {},
   "outputs": [],
   "source": [
    "import cv2\n",
    "import numpy as np\n",
    "from matplotlib import pyplot as plt"
   ]
  },
  {
   "cell_type": "code",
   "execution_count": 86,
   "metadata": {},
   "outputs": [],
   "source": [
    "def nothing(x):\n",
    "  pass"
   ]
  },
  {
   "cell_type": "code",
   "execution_count": 87,
   "metadata": {},
   "outputs": [],
   "source": [
    "img1 = cv2.imread('testImg1.jpg') # 원본\n",
    "img2 = cv2.imread('testImg1.jpg') # 사각형"
   ]
  },
  {
   "cell_type": "code",
   "execution_count": 88,
   "metadata": {},
   "outputs": [],
   "source": [
    "font = cv2.FONT_HERSHEY_SIMPLEX\n",
    "drawing = False \n",
    "ix,iy = -1,-1\n",
    "isUsed = False \n",
    "\n",
    "def draw_circle(event,x,y,flags,param):\n",
    "  global ix,iy,drawing,tmpImg,printText,isUsed\n",
    "  if event == cv2.EVENT_LBUTTONDOWN:\n",
    "    isUsed = True\n",
    "    tmpImg = cv2.imread('testImg1.jpg') \n",
    "    drawing = True\n",
    "    ix,iy = x,y\n",
    "  elif event == cv2.EVENT_MOUSEMOVE:\n",
    "    if drawing:\n",
    "      cv2.rectangle(tmpImg,(ix,iy),(x,y),(0,255,0),-1)\n",
    "  elif event == cv2.EVENT_LBUTTONUP:\n",
    "    if drawing:\n",
    "      printText = f'Mouse position ({str(ix)}, {str(iy)}) - ({str(x)}, {str(y)}) - {str(w)}'\n",
    "      cv2.rectangle(tmpImg,(ix,iy),(x,y),(0,0,255),-1)\n",
    "    drawing = False\n",
    "    \n",
    "    \n",
    "    "
   ]
  },
  {
   "cell_type": "code",
   "execution_count": 89,
   "metadata": {},
   "outputs": [],
   "source": [
    "cv2.namedWindow('image')\n",
    "cv2.createTrackbar('add','image', 50, 100, nothing)\n",
    "cv2.setMouseCallback('image',draw_circle)\n",
    "\n",
    "w = 50\n",
    "\n",
    "while(1):\n",
    "  w = cv2.getTrackbarPos('add', 'image')\n",
    "  if isUsed == False:\n",
    "    dst = cv2.addWeighted(img1, 1.0, img2, 0.0, 0)\n",
    "  else:\n",
    "    dst = cv2.addWeighted(tmpImg, 1-w/100., img2, w/100.0, 0)\n",
    "    cv2.putText(dst, printText, (10,50), font, 0.5, (255,255,255), 1, cv2.LINE_AA)\n",
    "\n",
    "\n",
    "  cv2.imshow('image', dst)\n",
    "  k = cv2.waitKey(1) & 0xFF \n",
    "  if k == 27:\n",
    "    break\n",
    "\n",
    "\n",
    "  \n",
    "cv2.destroyAllWindows()"
   ]
  },
  {
   "cell_type": "code",
   "execution_count": 90,
   "metadata": {},
   "outputs": [
    {
     "data": {
      "text/plain": [
       "-1"
      ]
     },
     "execution_count": 90,
     "metadata": {},
     "output_type": "execute_result"
    }
   ],
   "source": [
    "cv2.destroyAllWindows()\n",
    "\n",
    "cv2.waitKey(1)\n",
    "cv2.waitKey(1)\n",
    "cv2.waitKey(1)\n",
    "cv2.waitKey(1)\n",
    "cv2.waitKey(1)"
   ]
  }
 ],
 "metadata": {
  "kernelspec": {
   "display_name": "IP2024",
   "language": "python",
   "name": "python3"
  },
  "language_info": {
   "codemirror_mode": {
    "name": "ipython",
    "version": 3
   },
   "file_extension": ".py",
   "mimetype": "text/x-python",
   "name": "python",
   "nbconvert_exporter": "python",
   "pygments_lexer": "ipython3",
   "version": "3.8.19"
  }
 },
 "nbformat": 4,
 "nbformat_minor": 2
}
